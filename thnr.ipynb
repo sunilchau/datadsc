{
 "cells": [
  {
   "cell_type": "code",
   "execution_count": 1,
   "id": "d3fc88f6",
   "metadata": {},
   "outputs": [
    {
     "name": "stderr",
     "output_type": "stream",
     "text": [
      "C:\\Users\\lahit\\AppData\\Local\\Temp\\ipykernel_8068\\3076723309.py:21: FutureWarning: DataFrame.interpolate with object dtype is deprecated and will raise in a future version. Call obj.infer_objects(copy=False) before interpolating instead.\n",
      "  combined_df.interpolate(method='linear', inplace=True, limit_direction='both')\n"
     ]
    },
    {
     "name": "stdout",
     "output_type": "stream",
     "text": [
      "--- Sampled Segment: walking ---\n",
      "   id     attr_time    attr_x    attr_y    attr_z activity  Unnamed: 4\n",
      "0   1  1.435993e+12 -2.160767  9.400234  0.565032  walking    0.754174\n",
      "1   2  1.435993e+12 -2.176928  9.395446  0.621295  walking    0.754174\n",
      "2   3  1.435993e+12 -2.151190  9.382876  0.588974  walking    0.754174\n",
      "3   4  1.435993e+12 -2.135029  9.319430  0.545878  walking    0.754174\n",
      "4   5  1.435993e+12 -2.168548  9.306262  0.586579  walking    0.754174\n",
      "\n",
      "✅ Modular script execution complete.\n",
      "Combined and cleaned data saved to 'combined_cleaned_data_modular.csv'\n"
     ]
    }
   ],
   "source": [
    "import pandas as pd\n",
    "import os\n",
    "\n",
    "def load_and_label_data(folder_path, filenames):\n",
    "    data_frames = []\n",
    "    for filename in filenames:\n",
    "        file_path = os.path.join(folder_path, filename)\n",
    "        if not os.path.exists(file_path):\n",
    "            print(f\"Warning: File not found at {file_path}. Skipping.\")\n",
    "            continue\n",
    "        \n",
    "        df = pd.read_csv(file_path)\n",
    "        activity_name = os.path.splitext(os.path.basename(file_path))[0]\n",
    "        df['activity'] = activity_name\n",
    "        data_frames.append(df)\n",
    "        \n",
    "    return data_frames\n",
    "\n",
    "def combine_and_clean_data(data_frames):\n",
    "    combined_df = pd.concat(data_frames, ignore_index=True)\n",
    "    combined_df.interpolate(method='linear', inplace=True, limit_direction='both')\n",
    "    return combined_df\n",
    "\n",
    "def segment_data_by_activity(df):\n",
    "    return {activity: group for activity, group in df.groupby('activity')}\n",
    "\n",
    "def main():\n",
    "    folder_path = r\"C:\\Users\\lahit\\Downloads\\wetransfer_implementation_2024-02-07_1029 (1)\\dataset\\dataset\"\n",
    "    \n",
    "    filenames = [\n",
    "        'walking.csv', 'sitting.csv', 'running.csv', 'lying.csv', \n",
    "        'jumping.csv', 'climbing_up.csv', 'climbing_down.csv'\n",
    "    ]\n",
    "    \n",
    "    all_data_frames = load_and_label_data(folder_path, filenames)\n",
    "    \n",
    "    if not all_data_frames:\n",
    "        print(\"No data was loaded. Exiting.\")\n",
    "        return\n",
    "\n",
    "    combined_data = combine_and_clean_data(all_data_frames)\n",
    "    \n",
    "    activity_segments = segment_data_by_activity(combined_data)\n",
    "    \n",
    "    print(\"--- Sampled Segment: walking ---\")\n",
    "    if 'walking' in activity_segments:\n",
    "        print(activity_segments['walking'].head())\n",
    "\n",
    "    output_filename = 'combined_cleaned_data_modular.csv'\n",
    "    combined_data.to_csv(output_filename, index=False)\n",
    "    \n",
    "    print(f\"\\n✅ Modular script execution complete.\")\n",
    "    print(f\"Combined and cleaned data saved to '{output_filename}'\")\n",
    "\n",
    "if __name__ == \"__main__\":\n",
    "    main()"
   ]
  },
  {
   "cell_type": "code",
   "execution_count": null,
   "id": "2253b9ee",
   "metadata": {},
   "outputs": [],
   "source": []
  },
  {
   "cell_type": "code",
   "execution_count": 3,
   "id": "9a9cd596",
   "metadata": {},
   "outputs": [
    {
     "name": "stdout",
     "output_type": "stream",
     "text": [
      "✅ Data prepared successfully. Shape of feature matrix: (389129, 3)\n"
     ]
    }
   ],
   "source": [
    "import pandas as pd\n",
    "from sklearn.preprocessing import StandardScaler\n",
    "\n",
    "# Ensure the combined CSV file from your first script exists and is loaded\n",
    "try:\n",
    "    df = pd.read_csv('combined_cleaned_data_modular.csv')\n",
    "except FileNotFoundError:\n",
    "    print(\"Error: 'combined_cleaned_data_modular.csv' not found.\")\n",
    "    print(\"Please run the first data processing script to generate it.\")\n",
    "    # In a real script, you might exit here. In a notebook, just ensure the file exists.\n",
    "\n",
    "# Define features and target\n",
    "features = ['attr_x', 'attr_y', 'attr_z']\n",
    "target = 'activity'\n",
    "\n",
    "X = df[features].values\n",
    "y = df[target]\n",
    "\n",
    "# Scale the features\n",
    "scaler = StandardScaler()\n",
    "X_scaled = scaler.fit_transform(X)\n",
    "\n",
    "print(f\"✅ Data prepared successfully. Shape of feature matrix: {X_scaled.shape}\")"
   ]
  },
  {
   "cell_type": "code",
   "execution_count": 1,
   "id": "907233a5",
   "metadata": {},
   "outputs": [
    {
     "name": "stdout",
     "output_type": "stream",
     "text": [
      "Requirement already satisfied: kmapper in c:\\users\\lahit\\appdata\\local\\programs\\python\\python313\\lib\\site-packages (2.1.0)\n",
      "Requirement already satisfied: scikit-learn in c:\\users\\lahit\\appdata\\local\\programs\\python\\python313\\lib\\site-packages (1.7.1)\n",
      "Requirement already satisfied: numpy in c:\\users\\lahit\\appdata\\local\\programs\\python\\python313\\lib\\site-packages (2.3.1)\n",
      "Requirement already satisfied: pandas in c:\\users\\lahit\\appdata\\local\\programs\\python\\python313\\lib\\site-packages (2.3.1)\n",
      "Requirement already satisfied: scipy in c:\\users\\lahit\\appdata\\local\\programs\\python\\python313\\lib\\site-packages (from kmapper) (1.16.0)\n",
      "Requirement already satisfied: Jinja2 in c:\\users\\lahit\\appdata\\local\\programs\\python\\python313\\lib\\site-packages (from kmapper) (3.1.6)\n",
      "Requirement already satisfied: joblib>=1.2.0 in c:\\users\\lahit\\appdata\\local\\programs\\python\\python313\\lib\\site-packages (from scikit-learn) (1.5.1)\n",
      "Requirement already satisfied: threadpoolctl>=3.1.0 in c:\\users\\lahit\\appdata\\local\\programs\\python\\python313\\lib\\site-packages (from scikit-learn) (3.6.0)\n",
      "Requirement already satisfied: python-dateutil>=2.8.2 in c:\\users\\lahit\\appdata\\local\\programs\\python\\python313\\lib\\site-packages (from pandas) (2.9.0.post0)\n",
      "Requirement already satisfied: pytz>=2020.1 in c:\\users\\lahit\\appdata\\local\\programs\\python\\python313\\lib\\site-packages (from pandas) (2025.2)\n",
      "Requirement already satisfied: tzdata>=2022.7 in c:\\users\\lahit\\appdata\\local\\programs\\python\\python313\\lib\\site-packages (from pandas) (2025.2)\n",
      "Requirement already satisfied: six>=1.5 in c:\\users\\lahit\\appdata\\local\\programs\\python\\python313\\lib\\site-packages (from python-dateutil>=2.8.2->pandas) (1.17.0)\n",
      "Requirement already satisfied: MarkupSafe>=2.0 in c:\\users\\lahit\\appdata\\local\\programs\\python\\python313\\lib\\site-packages (from Jinja2->kmapper) (3.0.2)\n"
     ]
    },
    {
     "ename": "NameError",
     "evalue": "name 'X_scaled' is not defined",
     "output_type": "error",
     "traceback": [
      "\u001b[31m---------------------------------------------------------------------------\u001b[39m",
      "\u001b[31mNameError\u001b[39m                                 Traceback (most recent call last)",
      "\u001b[36mCell\u001b[39m\u001b[36m \u001b[39m\u001b[32mIn[1]\u001b[39m\u001b[32m, line 13\u001b[39m\n\u001b[32m      9\u001b[39m \u001b[38;5;28;01mfrom\u001b[39;00m\u001b[38;5;250m \u001b[39m\u001b[34;01msklearn\u001b[39;00m\u001b[34;01m.\u001b[39;00m\u001b[34;01mmodel_selection\u001b[39;00m\u001b[38;5;250m \u001b[39m\u001b[38;5;28;01mimport\u001b[39;00m train_test_split\n\u001b[32m     11\u001b[39m sample_size = \u001b[32m30000\u001b[39m\n\u001b[32m     12\u001b[39m X_sample, _, y_sample, _ = train_test_split(\n\u001b[32m---> \u001b[39m\u001b[32m13\u001b[39m     \u001b[43mX_scaled\u001b[49m, y,\n\u001b[32m     14\u001b[39m     train_size=sample_size,\n\u001b[32m     15\u001b[39m     random_state=\u001b[32m42\u001b[39m,\n\u001b[32m     16\u001b[39m     stratify=y\n\u001b[32m     17\u001b[39m )\n\u001b[32m     19\u001b[39m \u001b[38;5;28mprint\u001b[39m(\u001b[33mf\u001b[39m\u001b[33m\"\u001b[39m\u001b[33mOriginal data shape: \u001b[39m\u001b[38;5;132;01m{\u001b[39;00mX_scaled.shape\u001b[38;5;132;01m}\u001b[39;00m\u001b[33m\"\u001b[39m)\n\u001b[32m     20\u001b[39m \u001b[38;5;28mprint\u001b[39m(\u001b[33mf\u001b[39m\u001b[33m\"\u001b[39m\u001b[33mUsing a subsample of shape: \u001b[39m\u001b[38;5;132;01m{\u001b[39;00mX_sample.shape\u001b[38;5;132;01m}\u001b[39;00m\u001b[33m\"\u001b[39m)\n",
      "\u001b[31mNameError\u001b[39m: name 'X_scaled' is not defined"
     ]
    }
   ],
   "source": [
    "!pip install kmapper scikit-learn numpy pandas\n",
    "\n",
    "import pandas as pd\n",
    "import numpy as np\n",
    "import kmapper as km\n",
    "from sklearn.preprocessing import StandardScaler\n",
    "from sklearn.decomposition import PCA\n",
    "from sklearn.cluster import DBSCAN\n",
    "from sklearn.model_selection import train_test_split\n",
    "\n",
    "sample_size = 30000\n",
    "X_sample, _, y_sample, _ = train_test_split(\n",
    "    X_scaled, y,\n",
    "    train_size=sample_size,\n",
    "    random_state=42,\n",
    "    stratify=y\n",
    ")\n",
    "\n",
    "print(f\"Original data shape: {X_scaled.shape}\")\n",
    "print(f\"Using a subsample of shape: {X_sample.shape}\")\n",
    "\n",
    "mapper = km.KeplerMapper(verbose=1)\n",
    "\n",
    "lens = mapper.project(\n",
    "    X_sample,\n",
    "    projection=PCA(n_components=2),\n",
    "    scaler=None\n",
    ")\n",
    "\n",
    "mapper_graph = mapper.map(\n",
    "    lens=lens,\n",
    "    X=X_sample,\n",
    "    cover=km.Cover(n_cubes=15, perc_overlap=0.4),\n",
    "    clusterer=DBSCAN(eps=0.5, min_samples=5)\n",
    ")\n",
    "\n",
    "print(\"\\n✅ Mapper graph constructed successfully on the subsample.\")\n",
    "\n",
    "activity_names = y_sample.unique()\n",
    "activity_to_int = {name: i for i, name in enumerate(activity_names)}\n",
    "color_values = y_sample.map(activity_to_int).values\n",
    "\n",
    "mapper.visualize(\n",
    "    mapper_graph,\n",
    "    title=\"Topological Analysis of Human Activities (on Sampled Data)\",\n",
    "    path_html=\"human_activity_mapper_sampled.html\",\n",
    "    custom_tooltips=y_sample.values,\n",
    "    color_values=color_values,\n",
    "    color_function_name=\"Activity\"\n",
    ")\n",
    "\n",
    "print(\"\\n✅ Visualization complete!\")\n",
    "print(\"Please open 'human_activity_mapper_sampled.html' to explore the graph.\")"
   ]
  }
 ],
 "metadata": {
  "kernelspec": {
   "display_name": "Python 3",
   "language": "python",
   "name": "python3"
  },
  "language_info": {
   "codemirror_mode": {
    "name": "ipython",
    "version": 3
   },
   "file_extension": ".py",
   "mimetype": "text/x-python",
   "name": "python",
   "nbconvert_exporter": "python",
   "pygments_lexer": "ipython3",
   "version": "3.13.5"
  }
 },
 "nbformat": 4,
 "nbformat_minor": 5
}
